{
 "cells": [
  {
   "cell_type": "code",
   "execution_count": 3,
   "id": "2ebc96b2",
   "metadata": {},
   "outputs": [
    {
     "name": "stdout",
     "output_type": "stream",
     "text": [
      "[[7 4 1]\n",
      " [8 5 2]\n",
      " [9 6 3]]\n"
     ]
    }
   ],
   "source": [
    "#Array Manipulation: Implement a function that takes a 2D numpy array as input and rotates it 90 degrees clockwise without using any numpy functions for rotation.\n",
    "\n",
    "import numpy as np\n",
    "\n",
    "def rotate_90_degrees_clockwise(arr):\n",
    "    if len(arr) == 0:\n",
    "        return arr\n",
    "\n",
    "    # Get the dimensions of the input array\n",
    "    rows, cols = len(arr), len(arr[0])\n",
    "\n",
    "    # Create a new array with swapped dimensions\n",
    "    rotated_arr = np.empty((cols, rows), dtype=arr.dtype)\n",
    "\n",
    "    # Fill in the values of the rotated array\n",
    "    for i in range(rows):\n",
    "        for j in range(cols):\n",
    "            rotated_arr[j][rows - 1 - i] = arr[i][j]\n",
    "\n",
    "    return rotated_arr\n",
    "\n",
    "# Example usage:\n",
    "input_array = np.array([[1, 2, 3], [4, 5, 6], [7, 8, 9]])\n",
    "result = rotate_90_degrees_clockwise(input_array)\n",
    "print(result)\n"
   ]
  },
  {
   "cell_type": "code",
   "execution_count": 4,
   "id": "600d99f6",
   "metadata": {},
   "outputs": [
    {
     "name": "stdout",
     "output_type": "stream",
     "text": [
      "[20 30 15 40]\n"
     ]
    }
   ],
   "source": [
    "#Advanced Array Indexing: Given a numpy array, create a new array that contains the elements from the original array where the corresponding elements meet specific conditions (e.g., greater than 10 and less than 50).\n",
    "\n",
    "import numpy as np\n",
    "\n",
    "# Create a sample numpy array\n",
    "original_array = np.array([1, 20, 30, 5, 15, 40, 60])\n",
    "\n",
    "# Define the conditions\n",
    "condition = (original_array > 10) & (original_array < 50)\n",
    "\n",
    "# Create a new array containing elements that meet the conditions\n",
    "new_array = original_array[condition]\n",
    "\n",
    "# Print the new array\n",
    "print(new_array)\n"
   ]
  },
  {
   "cell_type": "code",
   "execution_count": 5,
   "id": "6eb4554f",
   "metadata": {},
   "outputs": [
    {
     "name": "stdout",
     "output_type": "stream",
     "text": [
      "Original Array:\n",
      "[[0 0 0 0 0]\n",
      " [0 0 0 0 0]\n",
      " [0 0 1 0 0]\n",
      " [0 0 0 0 0]\n",
      " [0 0 0 0 0]]\n",
      "\n",
      "Result of Convolution:\n",
      "[[0 0 0 0 0]\n",
      " [0 1 1 1 0]\n",
      " [0 1 0 1 0]\n",
      " [0 1 1 1 0]\n",
      " [0 0 0 0 0]]\n"
     ]
    }
   ],
   "source": [
    "Multidimensional Array Operations: Create a numpy array with shape (n, n) where n is an odd number. Fill it with zeros except for the center element, which should be 1. Implement a function to perform a 2D convolution operation on this array using a predefined kernel.\n",
    "\n",
    "import numpy as np\n",
    "from scipy.signal import convolve2d\n",
    "\n",
    "def create_odd_centered_array(n):\n",
    "    if n % 2 == 0:\n",
    "        raise ValueError(\"n must be an odd number.\")\n",
    "    \n",
    "    center = (n - 1) // 2  # Calculate the center index\n",
    "    array = np.zeros((n, n), dtype=int)\n",
    "    array[center, center] = 1\n",
    "    return array\n",
    "\n",
    "def perform_2d_convolution(input_array, kernel):\n",
    "    result = convolve2d(input_array, kernel, mode='same', boundary='wrap')\n",
    "    return result\n",
    "\n",
    "# Create a 5x5 array with a center element of 1\n",
    "n = 5\n",
    "input_array = create_odd_centered_array(n)\n",
    "\n",
    "# Define a kernel for convolution (example kernel)\n",
    "kernel = np.array([[1, 1, 1],\n",
    "                   [1, 0, 1],\n",
    "                   [1, 1, 1]])\n",
    "\n",
    "# Perform the 2D convolution\n",
    "convolved_array = perform_2d_convolution(input_array, kernel)\n",
    "\n",
    "# Print the original array and the result of convolution\n",
    "print(\"Original Array:\")\n",
    "print(input_array)\n",
    "print(\"\\nResult of Convolution:\")\n",
    "print(convolved_array)\n"
   ]
  },
  {
   "cell_type": "code",
   "execution_count": 8,
   "id": "6ab75e61",
   "metadata": {},
   "outputs": [
    {
     "name": "stdout",
     "output_type": "stream",
     "text": [
      "Custom Sorting Time: 43.128390 seconds\n",
      "NumPy Sorting Time: 0.001027 seconds\n"
     ]
    }
   ],
   "source": [
    "#Efficient Sorting:Create a custom sorting algorithm that sorts a numpy array of integers in ascending order. Compare its performance with numpy's built-in sorting functions for large arrays.\n",
    "\n",
    "import numpy as np\n",
    "import time\n",
    "\n",
    "def custom_bubble_sort(arr):\n",
    "    n = len(arr)\n",
    "    for i in range(n):\n",
    "        swapped = False\n",
    "        for j in range(0, n - i - 1):\n",
    "            if arr[j] > arr[j + 1]:\n",
    "                arr[j], arr[j + 1] = arr[j + 1], arr[j]\n",
    "                swapped = True\n",
    "        if not swapped:\n",
    "            break\n",
    "\n",
    "# Generate a large random NumPy array of integers\n",
    "np.random.seed(0)\n",
    "large_array = np.random.randint(0, 1000, size=10000)\n",
    "\n",
    "# Copy the array for custom sorting (to keep the original unsorted)\n",
    "custom_sorted_array = large_array.copy()\n",
    "\n",
    "# Measure time for custom sorting\n",
    "start_time = time.time()\n",
    "custom_bubble_sort(custom_sorted_array)\n",
    "custom_sort_time = time.time() - start_time\n",
    "\n",
    "# Copy the array again for NumPy sorting\n",
    "numpy_sorted_array = large_array.copy()\n",
    "\n",
    "# Measure time for NumPy sorting\n",
    "start_time = time.time()\n",
    "numpy_sorted_array.sort()\n",
    "numpy_sort_time = time.time() - start_time\n",
    "\n",
    "# Verify that both sorting methods produce the same result\n",
    "assert np.array_equal(custom_sorted_array, numpy_sorted_array)\n",
    "\n",
    "print(f\"Custom Sorting Time: {custom_sort_time:.6f} seconds\")\n",
    "print(f\"NumPy Sorting Time: {numpy_sort_time:.6f} seconds\")\n"
   ]
  },
  {
   "cell_type": "code",
   "execution_count": 18,
   "id": "06969215",
   "metadata": {},
   "outputs": [
    {
     "name": "stdout",
     "output_type": "stream",
     "text": [
      "[[1 2 3]\n",
      " [4 5 6]]\n"
     ]
    }
   ],
   "source": [
    "#Array Serialization:Develop a mechanism to efficiently serialize and deserialize numpy arrays to/from disk in a custom binary format. Include error-checking and compatibility features.\n",
    "import numpy as np\n",
    "import struct\n",
    "\n",
    "def serialize_numpy_array(array, filename):\n",
    "    header = struct.pack('Q', array.size)  # Store the number of elements as an unsigned long long\n",
    "    header += struct.pack('B', array.dtype.itemsize)  # Store the data type size as a byte\n",
    "    header += struct.pack('B', array.ndim)  # Store the number of dimensions as a byte\n",
    "    header += struct.pack(f'{array.ndim}I', *array.shape)  # Store the shape as a sequence of unsigned integers\n",
    "\n",
    "    with open(filename, 'wb') as file:\n",
    "        file.write(header)\n",
    "        file.write(array.tobytes())\n",
    "\n",
    "# Example usage:\n",
    "arr = np.array([[1, 2, 3], [4, 5, 6]], dtype=np.int32)\n",
    "serialize_numpy_array(arr, 'serialized_array.bin')\n",
    "\n",
    "def deserialize_numpy_array(filename):\n",
    "    with open(filename, 'rb') as file:\n",
    "        num_elements = struct.unpack('Q', file.read(8))[0]\n",
    "        dtype_size = struct.unpack('B', file.read(1))[0]\n",
    "        num_dims = struct.unpack('B', file.read(1))[0]\n",
    "        shape = struct.unpack(f'{num_dims}I', file.read(num_dims * 4))\n",
    "        \n",
    "        # Calculate the shape and dtype\n",
    "        shape = tuple(shape)\n",
    "        dtype = f'int{dtype_size * 8}'\n",
    "        \n",
    "        # Create an empty array\n",
    "        array = np.empty(shape, dtype=dtype)\n",
    "        \n",
    "        # Read the binary data and populate the array\n",
    "        file.readinto(array)\n",
    "        \n",
    "        return array\n",
    "\n",
    "# Example usage:\n",
    "loaded_array = deserialize_numpy_array('serialized_array.bin')\n",
    "print(loaded_array)\n",
    "\n"
   ]
  },
  {
   "cell_type": "code",
   "execution_count": 14,
   "id": "574b3e74",
   "metadata": {},
   "outputs": [
    {
     "name": "stdout",
     "output_type": "stream",
     "text": [
      "SparseMatrix(shape=(3, 3), nnz=3)\n",
      "[[1. 0. 0.]\n",
      " [0. 2. 0.]\n",
      " [0. 0. 3.]]\n"
     ]
    }
   ],
   "source": [
    "#Array Customization:Extend numpy by implementing a custom numpy-like data structure with unique mathematical operations or array manipulation techniques tailored to a specific domain or problem. \n",
    "\n",
    "class SparseMatrix:\n",
    "    def __init__(self, data, row_indices, col_indices, shape):\n",
    "        self.data = data  # List of non-zero values\n",
    "        self.row_indices = row_indices  # List of row indices corresponding to data\n",
    "        self.col_indices = col_indices  # List of column indices corresponding to data\n",
    "        self.shape = shape  # Shape of the matrix (rows, columns)\n",
    "\n",
    "    def to_dense(self):\n",
    "        dense_matrix = np.zeros(self.shape, dtype=float)\n",
    "        for i in range(len(self.data)):\n",
    "            dense_matrix[self.row_indices[i], self.col_indices[i]] = self.data[i]\n",
    "        return dense_matrix\n",
    "\n",
    "    def transpose(self):\n",
    "        # Transpose the matrix by swapping row and column indices\n",
    "        return SparseMatrix(self.data, self.col_indices, self.row_indices, self.shape[::-1])\n",
    "\n",
    "    def dot(self, other_matrix):\n",
    "        # Perform a dot product between two sparse matrices\n",
    "        if self.shape[1] != other_matrix.shape[0]:\n",
    "            raise ValueError(\"Matrix dimensions are not compatible for dot product.\")\n",
    "        \n",
    "        # Perform the dot product efficiently\n",
    "        result_data = []\n",
    "        result_row_indices = []\n",
    "        result_col_indices = []\n",
    "        \n",
    "        # Perform dot product calculations here...\n",
    "        \n",
    "        return SparseMatrix(result_data, result_row_indices, result_col_indices, (self.shape[0], other_matrix.shape[1]))\n",
    "\n",
    "    def __str__(self):\n",
    "        return f\"SparseMatrix(shape={self.shape}, nnz={len(self.data)})\"\n",
    "\n",
    "# Example usage:\n",
    "data = [1.0, 2.0, 3.0]\n",
    "row_indices = [0, 1, 2]\n",
    "col_indices = [0, 1, 2]\n",
    "shape = (3, 3)\n",
    "\n",
    "sparse_matrix = SparseMatrix(data, row_indices, col_indices, shape)\n",
    "dense_matrix = sparse_matrix.to_dense()\n",
    "print(sparse_matrix)\n",
    "print(dense_matrix)\n"
   ]
  },
  {
   "cell_type": "code",
   "execution_count": null,
   "id": "9372c2bc",
   "metadata": {},
   "outputs": [],
   "source": []
  }
 ],
 "metadata": {
  "kernelspec": {
   "display_name": "Python 3 (ipykernel)",
   "language": "python",
   "name": "python3"
  },
  "language_info": {
   "codemirror_mode": {
    "name": "ipython",
    "version": 3
   },
   "file_extension": ".py",
   "mimetype": "text/x-python",
   "name": "python",
   "nbconvert_exporter": "python",
   "pygments_lexer": "ipython3",
   "version": "3.11.4"
  }
 },
 "nbformat": 4,
 "nbformat_minor": 5
}
