{
 "cells": [
  {
   "cell_type": "code",
   "execution_count": 3,
   "id": "672b9e72",
   "metadata": {},
   "outputs": [],
   "source": [
    "import numpy as np"
   ]
  },
  {
   "cell_type": "code",
   "execution_count": 6,
   "id": "89319071",
   "metadata": {},
   "outputs": [
    {
     "data": {
      "text/plain": [
       "array([0.01358663, 0.64220367, 0.49770189, 0.78883743, 0.21195036,\n",
       "       0.08820873, 0.60012405, 0.98165315, 0.27909214, 0.17662186])"
      ]
     },
     "execution_count": 6,
     "metadata": {},
     "output_type": "execute_result"
    }
   ],
   "source": [
    "x=np.random.rand(10)\n",
    "x"
   ]
  },
  {
   "cell_type": "code",
   "execution_count": 8,
   "id": "f6551894",
   "metadata": {},
   "outputs": [
    {
     "data": {
      "text/plain": [
       "array([0.76538672, 0.06634812, 0.13300189, 0.43034254, 0.90104235,\n",
       "       0.1198227 , 0.0092163 , 0.58973822, 0.68900828, 0.36929058])"
      ]
     },
     "execution_count": 8,
     "metadata": {},
     "output_type": "execute_result"
    }
   ],
   "source": [
    "y=np.random.rand(10)\n",
    "y"
   ]
  },
  {
   "cell_type": "code",
   "execution_count": 10,
   "id": "4a38dc34",
   "metadata": {},
   "outputs": [],
   "source": [
    "import matplotlib.pyplot as plt"
   ]
  },
  {
   "cell_type": "code",
   "execution_count": 12,
   "id": "a8acdfaf",
   "metadata": {},
   "outputs": [
    {
     "data": {
      "image/png": "[encoded data removed]",
      "text/plain": [
       "<Figure size 640x480 with 1 Axes>"
      ]
     },
     "metadata": {},
     "output_type": "display_data"
    }
   ],
   "source": [
    "plt.scatter(x,y)\n",
    "plt.show()"
   ]
  },
  {
   "cell_type": "code",
   "execution_count": 15,
   "id": "75bb8012",
   "metadata": {},
   "outputs": [
    {
     "data": {
      "text/plain": [
       "array([[ 0.10403803, -0.02679225],\n",
       "       [-0.02679225,  0.10213644]])"
      ]
     },
     "execution_count": 15,
     "metadata": {},
     "output_type": "execute_result"
    }
   ],
   "source": [
    "cov_xy=np.cov(x,y)\n",
    "cov_xy"
   ]
  },
  {
   "cell_type": "code",
   "execution_count": 17,
   "id": "34c3c911",
   "metadata": {},
   "outputs": [],
   "source": [
    "eig_value,eig_vector=np.linalg.eig(cov_xy)"
   ]
  },
  {
   "cell_type": "code",
   "execution_count": 19,
   "id": "47ef827c",
   "metadata": {},
   "outputs": [
    {
     "data": {
      "text/plain": [
       "array([[ 0.71953638,  0.69445474],\n",
       "       [-0.69445474,  0.71953638]])"
      ]
     },
     "execution_count": 19,
     "metadata": {},
     "output_type": "execute_result"
    }
   ],
   "source": [
    "eig_vector"
   ]
  },
  {
   "cell_type": "code",
   "execution_count": 21,
   "id": "7110d0d0",
   "metadata": {},
   "outputs": [
    {
     "data": {
      "text/plain": [
       "array([0.12989635, 0.07627812])"
      ]
     },
     "execution_count": 21,
     "metadata": {},
     "output_type": "execute_result"
    }
   ],
   "source": [
    "eig_value"
   ]
  },
  {
   "cell_type": "code",
   "execution_count": 24,
   "id": "40cf2bca",
   "metadata": {},
   "outputs": [
    {
     "data": {
      "text/plain": [
       "array([[0.01358663, 0.76538672],\n",
       "       [0.64220367, 0.06634812],\n",
       "       [0.49770189, 0.13300189],\n",
       "       [0.78883743, 0.43034254],\n",
       "       [0.21195036, 0.90104235],\n",
       "       [0.08820873, 0.1198227 ],\n",
       "       [0.60012405, 0.0092163 ],\n",
       "       [0.98165315, 0.58973822],\n",
       "       [0.27909214, 0.68900828],\n",
       "       [0.17662186, 0.36929058]])"
      ]
     },
     "execution_count": 24,
     "metadata": {},
     "output_type": "execute_result"
    }
   ],
   "source": [
    "data=np.append(x.reshape(-1,1),y.reshape(-1,1),axis=1)\n",
    "data"
   ]
  },
  {
   "cell_type": "code",
   "execution_count": 26,
   "id": "2240688d",
   "metadata": {},
   "outputs": [
    {
     "data": {
      "text/plain": [
       "array([0.54130251, 0.50816468, 0.45047841, 0.86645065, 0.77823913,\n",
       "       0.14668084, 0.43821139, 1.11588167, 0.67930202, 0.38354145])"
      ]
     },
     "execution_count": 26,
     "metadata": {},
     "output_type": "execute_result"
    }
   ],
   "source": [
    "pc=np.dot(data,eig_vector[0].T)\n",
    "pc"
   ]
  }
 ],
 "metadata": {
  "kernelspec": {
   "display_name": "Python 3 (ipykernel)",
   "language": "python",
   "name": "python3"
  },
  "language_info": {
   "codemirror_mode": {
    "name": "ipython",
    "version": 3
   },
   "file_extension": ".py",
   "mimetype": "text/x-python",
   "name": "python",
   "nbconvert_exporter": "python",
   "pygments_lexer": "ipython3",
   "version": "3.11.4"
  }
 },
 "nbformat": 4,
 "nbformat_minor": 5
}
