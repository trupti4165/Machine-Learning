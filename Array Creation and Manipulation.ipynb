{
 "cells": [
  {
   "cell_type": "code",
   "execution_count": 3,
   "id": "9f378160",
   "metadata": {},
   "outputs": [
    {
     "data": {
      "text/plain": [
       "array([0, 1, 2, 3, 4, 5, 6, 7, 8, 9])"
      ]
     },
     "execution_count": 3,
     "metadata": {},
     "output_type": "execute_result"
    }
   ],
   "source": [
    "#1.Array Creation and Manipulation:\n",
    "\n",
    "#Create a NumPy array with values ranging from 0 to 9.\n",
    "import numpy as np\n",
    "arr=np.arange(0,10)\n",
    "arr"
   ]
  },
  {
   "cell_type": "code",
   "execution_count": 12,
   "id": "3303a83f",
   "metadata": {},
   "outputs": [
    {
     "data": {
      "text/plain": [
       "array([[0, 0, 0],\n",
       "       [0, 0, 1],\n",
       "       [0, 1, 1]])"
      ]
     },
     "execution_count": 12,
     "metadata": {},
     "output_type": "execute_result"
    }
   ],
   "source": [
    "#Create a 3x3 matrix with random values between 0 and 1.\n",
    "arr=np.random.randint(0,2,size=(3,3))\n",
    "arr"
   ]
  },
  {
   "cell_type": "code",
   "execution_count": 41,
   "id": "7def2c71",
   "metadata": {},
   "outputs": [
    {
     "data": {
      "text/plain": [
       "array([[0, 1, 2, 3],\n",
       "       [4, 5, 6, 7]])"
      ]
     },
     "execution_count": 41,
     "metadata": {},
     "output_type": "execute_result"
    }
   ],
   "source": [
    "#Reshape a 1D array into a 2D array with dimensions 2x4.\n",
    "a=np.arange(0,8)\n",
    "a.reshape(2,4)"
   ]
  },
  {
   "cell_type": "code",
   "execution_count": 2,
   "id": "39de557a",
   "metadata": {},
   "outputs": [
    {
     "data": {
      "text/plain": [
       "[0, 2, 4, 6]"
      ]
     },
     "execution_count": 2,
     "metadata": {},
     "output_type": "execute_result"
    }
   ],
   "source": [
    "#Extract all the even elements from an array.\n",
    "l =[0,1,2,3,4,5,6]\n",
    "l[::2]"
   ]
  },
  {
   "cell_type": "code",
   "execution_count": 24,
   "id": "bb8c994d",
   "metadata": {},
   "outputs": [
    {
     "data": {
      "text/plain": [
       "array([3, 4])"
      ]
     },
     "execution_count": 24,
     "metadata": {},
     "output_type": "execute_result"
    }
   ],
   "source": [
    "#2.Array Indexing and Slicing:\n",
    "\n",
    "#Retrieve the first row of a 2D array.\n",
    "import numpy as np\n",
    "a1 = np.array([[1, 2], [3, 4]])\n",
    "a1[1]"
   ]
  },
  {
   "cell_type": "code",
   "execution_count": 15,
   "id": "8b0d6151",
   "metadata": {},
   "outputs": [
    {
     "data": {
      "text/plain": [
       "array([[2],\n",
       "       [4]])"
      ]
     },
     "execution_count": 15,
     "metadata": {},
     "output_type": "execute_result"
    }
   ],
   "source": [
    "#Get the last column of a 2D array.\n",
    "a1[:,1:]"
   ]
  },
  {
   "cell_type": "code",
   "execution_count": 33,
   "id": "ae50a0cc",
   "metadata": {},
   "outputs": [
    {
     "data": {
      "text/plain": [
       "array([3, 4, 5, 6])"
      ]
     },
     "execution_count": 33,
     "metadata": {},
     "output_type": "execute_result"
    }
   ],
   "source": [
    "#Slice a 1D array to get elements from index 2 to 5.\n",
    "arr=np.array([1,2,3,4,5,6,7,8,9])\n",
    "arr[2:6]"
   ]
  },
  {
   "cell_type": "code",
   "execution_count": 37,
   "id": "0814c923",
   "metadata": {},
   "outputs": [
    {
     "data": {
      "text/plain": [
       "array([[8, 3, 2],\n",
       "       [1, 4, 8],\n",
       "       [3, 6, 4]])"
      ]
     },
     "execution_count": 37,
     "metadata": {},
     "output_type": "execute_result"
    }
   ],
   "source": [
    "#Extract a sub-matrix from a 2D array by specifying row and column indices.\n",
    "arr=np.random.randint(1,10,size=(5,5))\n",
    "arr[1:4,1:4]"
   ]
  },
  {
   "cell_type": "code",
   "execution_count": 43,
   "id": "26856735",
   "metadata": {},
   "outputs": [
    {
     "data": {
      "text/plain": [
       "array([[ 4,  6],\n",
       "       [ 8, 10]])"
      ]
     },
     "execution_count": 43,
     "metadata": {},
     "output_type": "execute_result"
    }
   ],
   "source": [
    "#3.Array Operations:\n",
    "\n",
    "#Perform element-wise addition and subtraction between two arrays.\n",
    "a=np.arange(4).reshape(2,2)\n",
    "b=np.arange(4,8).reshape(2,2)\n",
    "a+b"
   ]
  },
  {
   "cell_type": "code",
   "execution_count": 42,
   "id": "d122603b",
   "metadata": {},
   "outputs": [
    {
     "data": {
      "text/plain": [
       "array([[-4, -4],\n",
       "       [-4, -4]])"
      ]
     },
     "execution_count": 42,
     "metadata": {},
     "output_type": "execute_result"
    }
   ],
   "source": [
    "a-b"
   ]
  },
  {
   "cell_type": "code",
   "execution_count": 45,
   "id": "d937bce2",
   "metadata": {},
   "outputs": [
    {
     "data": {
      "text/plain": [
       "array([ 5, 10, 15, 20, 25])"
      ]
     },
     "execution_count": 45,
     "metadata": {},
     "output_type": "execute_result"
    }
   ],
   "source": [
    "#Multiply a scalar value with a NumPy array.\n",
    "import numpy as np\n",
    "a1=np.array([1,2,3,4,5])\n",
    "n=5\n",
    "a1*n"
   ]
  },
  {
   "cell_type": "code",
   "execution_count": 48,
   "id": "d5e9b137",
   "metadata": {},
   "outputs": [
    {
     "data": {
      "text/plain": [
       "array([[ 6,  7],\n",
       "       [26, 31]])"
      ]
     },
     "execution_count": 48,
     "metadata": {},
     "output_type": "execute_result"
    }
   ],
   "source": [
    "#Calculate the dot product of two matrices.\n",
    "a=np.arange(4).reshape(2,2)\n",
    "b=np.arange(4,8).reshape(2,2)\n",
    "a.dot(b)"
   ]
  },
  {
   "cell_type": "code",
   "execution_count": 49,
   "id": "b1f47c91",
   "metadata": {},
   "outputs": [
    {
     "name": "stdout",
     "output_type": "stream",
     "text": [
      "[0 1 2 3 4 5 6 7 8 9]\n",
      "\n",
      "Mean:  4.5\n",
      "\n",
      "std:  2.8722813232690143\n"
     ]
    }
   ],
   "source": [
    "#Find the mean, median, and standard deviation of an array.\n",
    "import numpy as np\n",
    "array = np.arange(10)\n",
    "print(array)\n",
    "r1 = np.mean(array)\n",
    "print(\"\\nMean: \", r1)\n",
    "r2 = np.std(array)\n",
    "print(\"\\nstd: \", r2)\n",
    "\n"
   ]
  },
  {
   "cell_type": "code",
   "execution_count": 50,
   "id": "183cd73a",
   "metadata": {},
   "outputs": [
    {
     "name": "stdout",
     "output_type": "stream",
     "text": [
      "[4 5]\n"
     ]
    }
   ],
   "source": [
    "#4.Array Filtering and Boolean Indexing:\n",
    "\n",
    "#Create a Boolean mask to extract all values greater than a certain threshold in an array.\n",
    "import numpy as np\n",
    "\n",
    "# Create an array\n",
    "arr = np.array([1, 2, 3, 4, 5])\n",
    "\n",
    "# Create a Boolean mask\n",
    "mask = arr > 3\n",
    "\n",
    "# Apply the mask to the original array\n",
    "result = arr[mask]\n",
    "\n",
    "print(result)"
   ]
  },
  {
   "cell_type": "code",
   "execution_count": 57,
   "id": "4f4d5898",
   "metadata": {},
   "outputs": [
    {
     "data": {
      "text/plain": [
       "4"
      ]
     },
     "execution_count": 57,
     "metadata": {},
     "output_type": "execute_result"
    }
   ],
   "source": [
    "#Count the number of True values in a Boolean array.\n",
    "import numpy as np\n",
    "boolarr = np.array([[True,False,True], [False,False,True], [True, False,False]])\n",
    "boolarr.sum()"
   ]
  },
  {
   "cell_type": "code",
   "execution_count": 63,
   "id": "26e815f0",
   "metadata": {},
   "outputs": [
    {
     "name": "stdout",
     "output_type": "stream",
     "text": [
      "[[0 2 0]\n",
      " [4 0 6]\n",
      " [0 8 0]]\n"
     ]
    }
   ],
   "source": [
    "#Use Boolean indexing to replace all negative values in an array with 0.\n",
    "import numpy as np\n",
    "arr = np.array([[-1, 2, -3], [4, -5, 6], [-7, 8, -9]])\n",
    "# set negative values to zero\n",
    "arr[arr < 0] = 0\n",
    "# display the array\n",
    "print(arr)\n"
   ]
  },
  {
   "cell_type": "code",
   "execution_count": 1,
   "id": "519a16c3",
   "metadata": {},
   "outputs": [
    {
     "name": "stdout",
     "output_type": "stream",
     "text": [
      "Minimum value: 1\n",
      "Maximum value: 5\n"
     ]
    }
   ],
   "source": [
    "#5.Array Aggregation and Statistics:\n",
    "\n",
    "#Find the maximum and minimum values in an array.\n",
    "arr = [1, 2, 3, 4, 5]\n",
    "minimum = min(arr)\n",
    "maximum = max(arr)\n",
    "print(f\"Minimum value: {minimum}\")\n",
    "print(f\"Maximum value: {maximum}\")"
   ]
  },
  {
   "cell_type": "code",
   "execution_count": 2,
   "id": "2283bad3",
   "metadata": {},
   "outputs": [
    {
     "name": "stdout",
     "output_type": "stream",
     "text": [
      "The sum of all elements in the array is 21.\n",
      "The product of all elements in the array is 720.\n"
     ]
    }
   ],
   "source": [
    "#Calculate the sum and product of all elements in a 2D array.\n",
    "import numpy as np\n",
    "arr = np.array([[1, 2], [3, 4], [5, 6]])\n",
    "sum_of_elements = np.sum(arr)\n",
    "product_of_elements = np.prod(arr)\n",
    "\n",
    "print(f\"The sum of all elements in the array is {sum_of_elements}.\")\n",
    "print(f\"The product of all elements in the array is {product_of_elements}.\")\n"
   ]
  },
  {
   "cell_type": "code",
   "execution_count": 3,
   "id": "9fb54cd0",
   "metadata": {},
   "outputs": [
    {
     "name": "stdout",
     "output_type": "stream",
     "text": [
      "Cumulative Sum along Axis 0 (columns):\n",
      "[[ 1  2  3]\n",
      " [ 5  7  9]\n",
      " [12 15 18]]\n",
      "\n",
      "Cumulative Sum along Axis 1 (rows):\n",
      "[[ 1  3  6]\n",
      " [ 4  9 15]\n",
      " [ 7 15 24]]\n"
     ]
    }
   ],
   "source": [
    "#Compute the cumulative sum along a specific axis of a 2D array.\n",
    "import numpy as np\n",
    "arr = np.array([[1, 2, 3],\n",
    "                [4, 5, 6],\n",
    "                [7, 8, 9]])\n",
    "\n",
    "cumulative_sum_axis0 = np.cumsum(arr, axis=0)\n",
    "\n",
    "cumulative_sum_axis1 = np.cumsum(arr, axis=1)\n",
    "\n",
    "print(\"Cumulative Sum along Axis 0 (columns):\")\n",
    "print(cumulative_sum_axis0)\n",
    "\n",
    "print(\"\\nCumulative Sum along Axis 1 (rows):\")\n",
    "print(cumulative_sum_axis1)\n"
   ]
  },
  {
   "cell_type": "code",
   "execution_count": 4,
   "id": "50cd55b6",
   "metadata": {},
   "outputs": [
    {
     "name": "stdout",
     "output_type": "stream",
     "text": [
      "Correlation Coefficient: -0.9999999999999999\n"
     ]
    }
   ],
   "source": [
    "#Calculate the correlation coefficient between two arrays.\n",
    "import numpy as np\n",
    "\n",
    "array1 = np.array([1, 2, 3, 4, 5])\n",
    "array2 = np.array([5, 4, 3, 2, 1])\n",
    "\n",
    "correlation_coefficient = np.corrcoef(array1, array2)[0, 1]\n",
    "\n",
    "print(\"Correlation Coefficient:\", correlation_coefficient)\n"
   ]
  },
  {
   "cell_type": "code",
   "execution_count": 5,
   "id": "a6fb2363",
   "metadata": {},
   "outputs": [
    {
     "name": "stdout",
     "output_type": "stream",
     "text": [
      "Original Array: [3 1 4 1 5 9 2 6 5 3 5]\n",
      "Ascending Order: [1 1 2 3 3 4 5 5 5 6 9]\n",
      "Descending Order: [9 6 5 5 5 4 3 3 2 1 1]\n"
     ]
    }
   ],
   "source": [
    "#6.Array Sorting and Searching:\n",
    "\n",
    "#Sort a 1D array in ascending and descending order.\n",
    "import numpy as np\n",
    "\n",
    "# Create a sample 1D array\n",
    "arr = np.array([3, 1, 4, 1, 5, 9, 2, 6, 5, 3, 5])\n",
    "\n",
    "# Sort the array in ascending order\n",
    "sorted_arr_ascending = np.sort(arr)\n",
    "\n",
    "# Sort the array in descending order\n",
    "sorted_arr_descending = np.sort(arr)[::-1]\n",
    "\n",
    "print(\"Original Array:\", arr)\n",
    "print(\"Ascending Order:\", sorted_arr_ascending)\n",
    "print(\"Descending Order:\", sorted_arr_descending)\n"
   ]
  },
  {
   "cell_type": "code",
   "execution_count": 6,
   "id": "0360901e",
   "metadata": {},
   "outputs": [
    {
     "name": "stdout",
     "output_type": "stream",
     "text": [
      "Original Array: [3 1 4 1 5 9 2 6 5 3 5]\n",
      "Indices that would sort the array: [ 1  3  6  0  9  2  4  8 10  7  5]\n"
     ]
    }
   ],
   "source": [
    "#Find the indices that would sort an array.\n",
    "import numpy as np\n",
    "\n",
    "# Create a sample 1D array\n",
    "arr = np.array([3, 1, 4, 1, 5, 9, 2, 6, 5, 3, 5])\n",
    "\n",
    "# Find the indices that would sort the array\n",
    "sorted_indices = np.argsort(arr)\n",
    "\n",
    "print(\"Original Array:\", arr)\n",
    "print(\"Indices that would sort the array:\", sorted_indices)\n"
   ]
  },
  {
   "cell_type": "code",
   "execution_count": 7,
   "id": "44146fe8",
   "metadata": {},
   "outputs": [
    {
     "name": "stdout",
     "output_type": "stream",
     "text": [
      "Element 4 found at index 2.\n"
     ]
    }
   ],
   "source": [
    "#Search for the index of a specific element in an array.\n",
    "import numpy as np\n",
    "\n",
    "# Create a sample numpy array\n",
    "arr = np.array([3, 1, 4, 1, 5, 9, 2, 6, 5, 3, 5])\n",
    "\n",
    "# Find the index of a specific element (e.g., value 4)\n",
    "element_to_find = 4\n",
    "index = np.where(arr == element_to_find)[0]\n",
    "\n",
    "if index.size > 0:\n",
    "    print(f\"Element {element_to_find} found at index {index[0]}.\")\n",
    "else:\n",
    "    print(f\"Element {element_to_find} not found in the array.\")\n"
   ]
  },
  {
   "cell_type": "code",
   "execution_count": 8,
   "id": "1d31483a",
   "metadata": {},
   "outputs": [
    {
     "name": "stdout",
     "output_type": "stream",
     "text": [
      "All elements in the array are greater than 2.\n"
     ]
    }
   ],
   "source": [
    "#Check if all elements in an array satisfy a certain condition.\n",
    "import numpy as np\n",
    "\n",
    "# Create a sample numpy array\n",
    "arr = np.array([3, 5, 7, 9, 11, 13])\n",
    "\n",
    "# Check if all elements are greater than 2\n",
    "condition = np.all(arr > 2)\n",
    "\n",
    "if condition:\n",
    "    print(\"All elements in the array are greater than 2.\")\n",
    "else:\n",
    "    print(\"Not all elements in the array are greater than 2.\")\n"
   ]
  },
  {
   "cell_type": "code",
   "execution_count": 13,
   "id": "a226acab",
   "metadata": {},
   "outputs": [
    {
     "name": "stdout",
     "output_type": "stream",
     "text": [
      "[[11 22 33]\n",
      " [14 25 36]]\n"
     ]
    }
   ],
   "source": [
    "#7.Array Broadcasting:\n",
    "\n",
    "#Explain the concept of broadcasting in NumPy and provide an example.\n",
    "'''Broadcasting is a powerful concept in NumPy that allows you to perform element-wise operations on arrays of different shapes, even if they do not have the same shape or dimensions.\n",
    "Broadcasting essentially extends smaller arrays to match the shape of larger arrays so that element-wise operations can be performed without explicitly creating copies of the smaller array.\n",
    "\n",
    "The key idea behind broadcasting is that NumPy automatically aligns dimensions of arrays when performing operations, provided certain rules are met\n",
    "'''\n",
    "\n",
    "import numpy as np\n",
    "\n",
    "# Create a 2D array\n",
    "A = np.array([[1, 2, 3],\n",
    "              [4, 5, 6]])\n",
    "\n",
    "# Create a 1D array\n",
    "B = np.array([10, 20, 30])\n",
    "\n",
    "# Add the 1D array to the 2D array\n",
    "result = A + B\n",
    "\n",
    "print(result)\n"
   ]
  },
  {
   "cell_type": "code",
   "execution_count": 16,
   "id": "b4617b70",
   "metadata": {},
   "outputs": [
    {
     "name": "stdout",
     "output_type": "stream",
     "text": [
      "Original Array A:\n",
      "[[1 2 3]\n",
      " [4 5 6]]\n",
      "\n",
      "1D Array B:\n",
      "[10 20 30]\n",
      "\n",
      "Addition Result (A + B):\n",
      "[[11 22 33]\n",
      " [14 25 36]]\n",
      "\n",
      "Subtraction Result (A - B):\n",
      "[[ -9 -18 -27]\n",
      " [ -6 -15 -24]]\n",
      "\n",
      "Multiplication Result (A * C):\n",
      "[[ 2  4  6]\n",
      " [16 20 24]]\n",
      "\n",
      "Division Result (A / D):\n",
      "[[0.5 0.4 0.3]\n",
      " [2.  1.  0.6]]\n"
     ]
    }
   ],
   "source": [
    "#Perform operations involving arrays with different shapes using broadcasting.\n",
    "import numpy as np\n",
    "\n",
    "# Create a 2D array\n",
    "A = np.array([[1, 2, 3],\n",
    "              [4, 5, 6]])\n",
    "\n",
    "# Create a 1D array\n",
    "B = np.array([10, 20, 30])\n",
    "\n",
    "# Addition\n",
    "addition_result = A + B\n",
    "\n",
    "# Subtraction\n",
    "subtraction_result = A - B\n",
    "\n",
    "# Multiplication\n",
    "C = np.array([[2],\n",
    "              [4]])\n",
    "multiplication_result = A * C\n",
    "\n",
    "# Division\n",
    "D = np.array([[2, 5, 10]])\n",
    "division_result = A / D\n",
    "\n",
    "print(\"Original Array A:\")\n",
    "print(A)\n",
    "\n",
    "print(\"\\n1D Array B:\")\n",
    "print(B)\n",
    "\n",
    "print(\"\\nAddition Result (A + B):\")\n",
    "print(addition_result)\n",
    "\n",
    "print(\"\\nSubtraction Result (A - B):\")\n",
    "print(subtraction_result)\n",
    "\n",
    "print(\"\\nMultiplication Result (A * C):\")\n",
    "print(multiplication_result)\n",
    "\n",
    "print(\"\\nDivision Result (A / D):\")\n",
    "print(division_result)"
   ]
  },
  {
   "cell_type": "code",
   "execution_count": 18,
   "id": "9cda7793",
   "metadata": {},
   "outputs": [
    {
     "name": "stdout",
     "output_type": "stream",
     "text": [
      "Vertical Concatenation:\n",
      "[[1 2]\n",
      " [3 4]\n",
      " [5 6]\n",
      " [7 8]]\n",
      "Horizontal Concatenation:\n",
      "[[1 2 5 6]\n",
      " [3 4 7 8]]\n"
     ]
    }
   ],
   "source": [
    "#8.Array Concatenation and Splitting:\n",
    "\n",
    "#Concatenate two arrays vertically and horizontally.\n",
    "import numpy as np\n",
    "\n",
    "# Create two sample arrays\n",
    "array1 = np.array([[1, 2],\n",
    "                   [3, 4]])\n",
    "\n",
    "array2 = np.array([[5, 6],\n",
    "                   [7, 8]])\n",
    "\n",
    "# Vertical concatenation\n",
    "vertical_concatenation = np.vstack((array1, array2))\n",
    "\n",
    "print(\"Vertical Concatenation:\")\n",
    "print(vertical_concatenation)\n",
    "\n",
    "# Horizontal concatenation\n",
    "horizontal_concatenation = np.hstack((array1, array2))\n",
    "\n",
    "print(\"Horizontal Concatenation:\")\n",
    "print(horizontal_concatenation)\n"
   ]
  },
  {
   "cell_type": "code",
   "execution_count": 19,
   "id": "e412a669",
   "metadata": {},
   "outputs": [
    {
     "name": "stdout",
     "output_type": "stream",
     "text": [
      "Subarray 1: [1 2]\n",
      "Subarray 2: [3 4]\n",
      "Subarray 3: [5 6]\n",
      "Subarray 4: [7 8]\n",
      "Subarray 5: [ 9 10]\n"
     ]
    }
   ],
   "source": [
    "#Split an array into multiple sub-arrays along a specified axis.\n",
    "import numpy as np\n",
    "\n",
    "# Create a sample array\n",
    "arr = np.array([1, 2, 3, 4, 5, 6, 7, 8, 9, 10])\n",
    "\n",
    "# Split the array into 5 equally sized sub-arrays along the specified axis (axis=0)\n",
    "subarrays = np.split(arr, 5)\n",
    "\n",
    "# Print the sub-arrays\n",
    "for i, subarray in enumerate(subarrays):\n",
    "    print(f\"Subarray {i + 1}:\", subarray)\n"
   ]
  },
  {
   "cell_type": "code",
   "execution_count": 20,
   "id": "0def4a53",
   "metadata": {},
   "outputs": [
    {
     "name": "stdout",
     "output_type": "stream",
     "text": [
      "Random Integers: [13 57 55 92  7 15 48 56 63 75]\n"
     ]
    }
   ],
   "source": [
    "#9.Random Number Generation:\n",
    "\n",
    "#Generate an array of random integers within a specific range.\n",
    "import numpy as np\n",
    "\n",
    "# Define the range and size of the random integer array\n",
    "low_limit = 1  # Minimum value (inclusive)\n",
    "high_limit = 100  # Maximum value (exclusive)\n",
    "array_size = 10  # Number of random integers\n",
    "\n",
    "# Generate the random integer array\n",
    "random_integers = np.random.randint(low_limit, high_limit, size=array_size)\n",
    "\n",
    "# Print the generated array\n",
    "print(\"Random Integers:\", random_integers)\n"
   ]
  },
  {
   "cell_type": "code",
   "execution_count": 21,
   "id": "0d2b76f5",
   "metadata": {},
   "outputs": [
    {
     "name": "stdout",
     "output_type": "stream",
     "text": [
      "Random 2D Array with Normal Distribution:\n",
      "[[-0.17494876 -0.764322   -0.5101228  -0.61645806]\n",
      " [-1.09758856 -2.77069659  1.00797011 -0.28698036]\n",
      " [ 0.06550299 -0.22036571  0.57574865  0.12909346]]\n"
     ]
    }
   ],
   "source": [
    "#Create a random 2D array with a normal distribution.\n",
    "import numpy as np\n",
    "\n",
    "# Define the parameters for the normal distribution\n",
    "mean = 0  # Mean of the distribution\n",
    "std_dev = 1  # Standard deviation of the distribution\n",
    "shape = (3, 4)  # Shape of the 2D array (3 rows, 4 columns)\n",
    "\n",
    "# Create a random 2D array with a normal distribution\n",
    "random_2d_array = np.random.normal(mean, std_dev, size=shape)\n",
    "\n",
    "# Print the generated 2D array\n",
    "print(\"Random 2D Array with Normal Distribution:\")\n",
    "print(random_2d_array)\n"
   ]
  }
 ],
 "metadata": {
  "kernelspec": {
   "display_name": "Python 3 (ipykernel)",
   "language": "python",
   "name": "python3"
  },
  "language_info": {
   "codemirror_mode": {
    "name": "ipython",
    "version": 3
   },
   "file_extension": ".py",
   "mimetype": "text/x-python",
   "name": "python",
   "nbconvert_exporter": "python",
   "pygments_lexer": "ipython3",
   "version": "3.11.4"
  }
 },
 "nbformat": 4,
 "nbformat_minor": 5
}
