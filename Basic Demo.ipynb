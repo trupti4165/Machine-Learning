{
 "cells": [
  {
   "cell_type": "code",
   "execution_count": 2,
   "id": "3caa7cb5",
   "metadata": {},
   "outputs": [
    {
     "name": "stdout",
     "output_type": "stream",
     "text": [
      "Enter a Number:2\n",
      "2 is prime\n"
     ]
    }
   ],
   "source": [
    "n=int(input(\"Enter a Number:\"))\n",
    "if n>1:\n",
    "    for i in range(2,n):\n",
    "        if n%2==0:\n",
    "            print(n,\"is not prime\")\n",
    "            break\n",
    "    else:\n",
    "        print(n, \"is prime\")\n",
    "        "
   ]
  },
  {
   "cell_type": "code",
   "execution_count": 15,
   "id": "11b070cd",
   "metadata": {},
   "outputs": [
    {
     "name": "stdout",
     "output_type": "stream",
     "text": [
      "Enter a number: 5\n",
      "5 is an Armstrong number\n"
     ]
    }
   ],
   "source": [
    "num = int(input(\"Enter a number: \"))\n",
    "sum = 0\n",
    "ln=len(str(num))\n",
    "temp = num\n",
    "while temp > 0:\n",
    "   digit = temp % 10\n",
    "   sum += (digit)**ln\n",
    "   temp //= 10\n",
    "\n",
    "# display the result\n",
    "if num == sum:\n",
    "   print(num,\"is an Armstrong number\")\n",
    "else:\n",
    "   print(num,\"is not an Armstrong number\")"
   ]
  },
  {
   "cell_type": "code",
   "execution_count": 13,
   "id": "58b7e3a8",
   "metadata": {},
   "outputs": [
    {
     "name": "stdout",
     "output_type": "stream",
     "text": [
      "Enter year to be checked:2004\n",
      "The year is a leap year!\n"
     ]
    }
   ],
   "source": [
    "year=int(input(\"Enter year to be checked:\"))\n",
    "if(year%4==0 and year%100!=0 or year%400==0):\n",
    "    print(\"The year is a leap year!\")\n",
    "else:\n",
    "    print(\"The year isn't a leap year!\")"
   ]
  },
  {
   "cell_type": "code",
   "execution_count": 1,
   "id": "d436b5c5",
   "metadata": {},
   "outputs": [
    {
     "name": "stdout",
     "output_type": "stream",
     "text": [
      "[[10 10 10]\n",
      " [10 10 10]\n",
      " [10 10 10]]\n"
     ]
    }
   ],
   "source": [
    "import numpy as np\n",
    "\n",
    "X = [[1, 2, 3],\n",
    "     [4, 5, 6],\n",
    "     [7, 8, 9]]\n",
    "\n",
    "Y = [[9, 8, 7],\n",
    "     [6, 5, 4],\n",
    "     [3, 2, 1]]\n",
    "\n",
    "result = np.array(X) + np.array(Y)\n",
    "\n",
    "print(result)"
   ]
  },
  {
   "cell_type": "code",
   "execution_count": 9,
   "id": "33fe98dd",
   "metadata": {},
   "outputs": [
    {
     "name": "stdout",
     "output_type": "stream",
     "text": [
      "Matrix([[10, 10, 10], [10, 10, 10], [10, 10, 10]])\n"
     ]
    }
   ],
   "source": [
    "from sympy import Matrix\n",
    "\n",
    "X = [[1, 2, 3],\n",
    "\t[4, 5, 6],\n",
    "\t[7, 8, 9]]\n",
    "\n",
    "Y = [[9, 8, 7],\n",
    "\t[6, 5, 4],\n",
    "\t[3, 2, 1]]\n",
    "\n",
    "matrix_x = Matrix(X)\n",
    "matrix_y = Matrix(Y)\n",
    "\n",
    "result = matrix_x + matrix_y\n",
    "print(result)\n"
   ]
  },
  {
   "cell_type": "code",
   "execution_count": 4,
   "id": "2e668e41",
   "metadata": {},
   "outputs": [
    {
     "name": "stdout",
     "output_type": "stream",
     "text": [
      "[5, 10, 6]\n",
      "[5, 7, 10]\n",
      "[14, 9, 14]\n"
     ]
    }
   ],
   "source": [
    "X = [[1,2,3],\n",
    "\t[4 ,5,6],\n",
    "\t[7 ,8,9]]\n",
    "\n",
    "Y = [[4,8,3],\n",
    "\t[1,2,4],\n",
    "\t[7,1,5]]\n",
    "\n",
    "\n",
    "result= [[0,0,0],\n",
    "\t\t[0,0,0],\n",
    "\t\t[0,0,0]]\n",
    "\n",
    "for i in range(len(X)):\n",
    "\n",
    "\tfor j in range(len(X[0])):\n",
    "\t\tresult[i][j] = X[i][j] + Y[i][j]\n",
    "\n",
    "for r in result:\n",
    "\tprint(r)\n"
   ]
  },
  {
   "cell_type": "code",
   "execution_count": 7,
   "id": "8a62c9d7",
   "metadata": {},
   "outputs": [
    {
     "name": "stdout",
     "output_type": "stream",
     "text": [
      "[6, 9]\n",
      "[4, 4]\n"
     ]
    }
   ],
   "source": [
    "a=[[5,7],\n",
    "    [0,1]]\n",
    "b=[[1,2],\n",
    "    [4,3]]\n",
    "temp=[[0,0],\n",
    "       [0,0]]\n",
    "for i in range(len(a)):\n",
    "    for j in range(len(a[0])):\n",
    "        temp[i][j]=a[i][j]+b[i][j]\n",
    "for r in temp:\n",
    "    print(r)"
   ]
  }
 ],
 "metadata": {
  "kernelspec": {
   "display_name": "Python 3 (ipykernel)",
   "language": "python",
   "name": "python3"
  },
  "language_info": {
   "codemirror_mode": {
    "name": "ipython",
    "version": 3
   },
   "file_extension": ".py",
   "mimetype": "text/x-python",
   "name": "python",
   "nbconvert_exporter": "python",
   "pygments_lexer": "ipython3",
   "version": "3.11.4"
  }
 },
 "nbformat": 4,
 "nbformat_minor": 5
}
