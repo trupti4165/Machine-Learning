{
 "cells": [
  {
   "cell_type": "code",
   "execution_count": 3,
   "id": "9f378160",
   "metadata": {},
   "outputs": [
    {
     "data": {
      "text/plain": [
       "array([0, 1, 2, 3, 4, 5, 6, 7, 8, 9])"
      ]
     },
     "execution_count": 3,
     "metadata": {},
     "output_type": "execute_result"
    }
   ],
   "source": [
    "#Create a NumPy array with values ranging from 0 to 9.\n",
    "import numpy as np\n",
    "arr=np.arange(0,10)\n",
    "arr"
   ]
  },
  {
   "cell_type": "code",
   "execution_count": 12,
   "id": "3303a83f",
   "metadata": {},
   "outputs": [
    {
     "data": {
      "text/plain": [
       "array([[0, 0, 0],\n",
       "       [0, 0, 1],\n",
       "       [0, 1, 1]])"
      ]
     },
     "execution_count": 12,
     "metadata": {},
     "output_type": "execute_result"
    }
   ],
   "source": [
    "#Create a 3x3 matrix with random values between 0 and 1.\n",
    "arr=np.random.randint(0,2,size=(3,3))\n",
    "arr"
   ]
  },
  {
   "cell_type": "code",
   "execution_count": 41,
   "id": "7def2c71",
   "metadata": {},
   "outputs": [
    {
     "data": {
      "text/plain": [
       "array([[0, 1, 2, 3],\n",
       "       [4, 5, 6, 7]])"
      ]
     },
     "execution_count": 41,
     "metadata": {},
     "output_type": "execute_result"
    }
   ],
   "source": [
    "#Reshape a 1D array into a 2D array with dimensions 2x4.\n",
    "a=np.arange(0,8)\n",
    "a.reshape(2,4)"
   ]
  },
  {
   "cell_type": "code",
   "execution_count": 2,
   "id": "39de557a",
   "metadata": {},
   "outputs": [
    {
     "data": {
      "text/plain": [
       "[0, 2, 4, 6]"
      ]
     },
     "execution_count": 2,
     "metadata": {},
     "output_type": "execute_result"
    }
   ],
   "source": [
    "#Extract all the even elements from an array.\n",
    "l =[0,1,2,3,4,5,6]\n",
    "l[::2]"
   ]
  },
  {
   "cell_type": "code",
   "execution_count": 24,
   "id": "bb8c994d",
   "metadata": {},
   "outputs": [
    {
     "data": {
      "text/plain": [
       "array([3, 4])"
      ]
     },
     "execution_count": 24,
     "metadata": {},
     "output_type": "execute_result"
    }
   ],
   "source": [
    "#2.Array Indexing and Slicing\n",
    "#Retrieve the first row of a 2D array.\n",
    "import numpy as np\n",
    "a1 = np.array([[1, 2], [3, 4]])\n",
    "a1[1]"
   ]
  },
  {
   "cell_type": "code",
   "execution_count": 15,
   "id": "8b0d6151",
   "metadata": {},
   "outputs": [
    {
     "data": {
      "text/plain": [
       "array([[2],\n",
       "       [4]])"
      ]
     },
     "execution_count": 15,
     "metadata": {},
     "output_type": "execute_result"
    }
   ],
   "source": [
    "#Get the last column of a 2D array.\n",
    "a1[:,1:]"
   ]
  },
  {
   "cell_type": "code",
   "execution_count": 33,
   "id": "ae50a0cc",
   "metadata": {},
   "outputs": [
    {
     "data": {
      "text/plain": [
       "array([3, 4, 5, 6])"
      ]
     },
     "execution_count": 33,
     "metadata": {},
     "output_type": "execute_result"
    }
   ],
   "source": [
    "#Slice a 1D array to get elements from index 2 to 5.\n",
    "arr=np.array([1,2,3,4,5,6,7,8,9])\n",
    "arr[2:6]"
   ]
  },
  {
   "cell_type": "code",
   "execution_count": 37,
   "id": "3c9ee8f7",
   "metadata": {},
   "outputs": [
    {
     "data": {
      "text/plain": [
       "array([[8, 3, 2],\n",
       "       [1, 4, 8],\n",
       "       [3, 6, 4]])"
      ]
     },
     "execution_count": 37,
     "metadata": {},
     "output_type": "execute_result"
    }
   ],
   "source": [
    "#Extract a sub-matrix from a 2D array by specifying row and column indices.\n",
    "arr=np.random.randint(1,10,size=(5,5))\n",
    "arr[1:4,1:4]"
   ]
  },
  {
   "cell_type": "code",
   "execution_count": 43,
   "id": "02c948dc",
   "metadata": {},
   "outputs": [
    {
     "data": {
      "text/plain": [
       "array([[ 4,  6],\n",
       "       [ 8, 10]])"
      ]
     },
     "execution_count": 43,
     "metadata": {},
     "output_type": "execute_result"
    }
   ],
   "source": [
    "#Array Operations:\n",
    "#Perform element-wise addition and subtraction between two arrays.\n",
    "a=np.arange(4).reshape(2,2)\n",
    "b=np.arange(4,8).reshape(2,2)\n",
    "a+b"
   ]
  },
  {
   "cell_type": "code",
   "execution_count": 42,
   "id": "294cc8dc",
   "metadata": {},
   "outputs": [
    {
     "data": {
      "text/plain": [
       "array([[-4, -4],\n",
       "       [-4, -4]])"
      ]
     },
     "execution_count": 42,
     "metadata": {},
     "output_type": "execute_result"
    }
   ],
   "source": [
    "a-b"
   ]
  },
  {
   "cell_type": "code",
   "execution_count": 45,
   "id": "76a148ed",
   "metadata": {},
   "outputs": [
    {
     "data": {
      "text/plain": [
       "array([ 5, 10, 15, 20, 25])"
      ]
     },
     "execution_count": 45,
     "metadata": {},
     "output_type": "execute_result"
    }
   ],
   "source": [
    "#Multiply a scalar value with a NumPy array.\n",
    "import numpy as np\n",
    "a1=np.array([1,2,3,4,5])\n",
    "n=5\n",
    "a1*n"
   ]
  },
  {
   "cell_type": "code",
   "execution_count": 48,
   "id": "d47e700a",
   "metadata": {},
   "outputs": [
    {
     "data": {
      "text/plain": [
       "array([[ 6,  7],\n",
       "       [26, 31]])"
      ]
     },
     "execution_count": 48,
     "metadata": {},
     "output_type": "execute_result"
    }
   ],
   "source": [
    "#Calculate the dot product of two matrices.\n",
    "a=np.arange(4).reshape(2,2)\n",
    "b=np.arange(4,8).reshape(2,2)\n",
    "a.dot(b)"
   ]
  },
  {
   "cell_type": "code",
   "execution_count": 49,
   "id": "09bf4d9f",
   "metadata": {},
   "outputs": [
    {
     "name": "stdout",
     "output_type": "stream",
     "text": [
      "[0 1 2 3 4 5 6 7 8 9]\n",
      "\n",
      "Mean:  4.5\n",
      "\n",
      "std:  2.8722813232690143\n"
     ]
    }
   ],
   "source": [
    "#Find the mean, median, and standard deviation of an array.\n",
    "import numpy as np\n",
    "array = np.arange(10)\n",
    "print(array)\n",
    "r1 = np.mean(array)\n",
    "print(\"\\nMean: \", r1)\n",
    "r2 = np.std(array)\n",
    "print(\"\\nstd: \", r2)\n",
    "\n"
   ]
  },
  {
   "cell_type": "code",
   "execution_count": 50,
   "id": "38a18a44",
   "metadata": {},
   "outputs": [
    {
     "name": "stdout",
     "output_type": "stream",
     "text": [
      "[4 5]\n"
     ]
    }
   ],
   "source": [
    "#Array Filtering and Boolean Indexing:\n",
    "#Create a Boolean mask to extract all values greater than a certain threshold in an array.\n",
    "import numpy as np\n",
    "\n",
    "# Create an array\n",
    "arr = np.array([1, 2, 3, 4, 5])\n",
    "\n",
    "# Create a Boolean mask\n",
    "mask = arr > 3\n",
    "\n",
    "# Apply the mask to the original array\n",
    "result = arr[mask]\n",
    "\n",
    "print(result)"
   ]
  },
  {
   "cell_type": "code",
   "execution_count": 57,
   "id": "0703d23d",
   "metadata": {},
   "outputs": [
    {
     "data": {
      "text/plain": [
       "4"
      ]
     },
     "execution_count": 57,
     "metadata": {},
     "output_type": "execute_result"
    }
   ],
   "source": [
    "#Count the number of True values in a Boolean array.\n",
    "import numpy as np\n",
    "boolarr = np.array([[True,False,True], [False,False,True], [True, False,False]])\n",
    "boolarr.sum()"
   ]
  },
  {
   "cell_type": "code",
   "execution_count": 63,
   "id": "ab8b1086",
   "metadata": {},
   "outputs": [
    {
     "name": "stdout",
     "output_type": "stream",
     "text": [
      "[[0 2 0]\n",
      " [4 0 6]\n",
      " [0 8 0]]\n"
     ]
    }
   ],
   "source": [
    "#Use Boolean indexing to replace all negative values in an array with 0.\n",
    "import numpy as np\n",
    "arr = np.array([[-1, 2, -3], [4, -5, 6], [-7, 8, -9]])\n",
    "# set negative values to zero\n",
    "arr[arr < 0] = 0\n",
    "# display the array\n",
    "print(arr)\n"
   ]
  },
  {
   "cell_type": "code",
   "execution_count": null,
   "id": "ae74b4a2",
   "metadata": {},
   "outputs": [],
   "source": [
    "#Array Aggregation and Statistics:\n",
    "#Find the maximum and minimum values in an array.\n"
   ]
  },
  {
   "cell_type": "code",
   "execution_count": null,
   "id": "ca598734",
   "metadata": {},
   "outputs": [],
   "source": []
  }
 ],
 "metadata": {
  "kernelspec": {
   "display_name": "Python 3 (ipykernel)",
   "language": "python",
   "name": "python3"
  },
  "language_info": {
   "codemirror_mode": {
    "name": "ipython",
    "version": 3
   },
   "file_extension": ".py",
   "mimetype": "text/x-python",
   "name": "python",
   "nbconvert_exporter": "python",
   "pygments_lexer": "ipython3",
   "version": "3.11.4"
  }
 },
 "nbformat": 4,
 "nbformat_minor": 5
}
